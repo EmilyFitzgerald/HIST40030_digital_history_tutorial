{
 "cells": [
  {
   "cell_type": "markdown",
   "metadata": {
    "id": "KTuN_JfAAMBq"
   },
   "source": [
    "# Learning and Applying Basic API Tasks in Chronicling America\n",
    "\n",
    "This notebook is meant to teach you some of the basic API tasks you'll encounter using the loc.gov API.\n",
    "\n",
    "Feel free to download this notebook and run with your own search query.\n",
    "\n",
    "\n",
    "---\n",
    "\n",
    "The first thing you want to do is import modules. Modules contain Python definitions and statements that you will need in order for the scripts to run."
   ]
  },
  {
   "cell_type": "markdown",
   "metadata": {
    "id": "-oiIj6YHAMk4"
   },
   "source": [
    "## Importing Modules\n",
    "The following modules are some of the most common you will be needing.\n",
    "\n",
    "---\n",
    "To import the modules you need for this notebook, simply run the following code below.\n"
   ]
  },
  {
   "cell_type": "code",
   "execution_count": null,
   "metadata": {
    "executionInfo": {
     "elapsed": 143,
     "status": "ok",
     "timestamp": 1712118023756,
     "user": {
      "displayName": "Mike Saelee",
      "userId": "09356275809855701196"
     },
     "user_tz": 240
    },
    "id": "yLso9acSAOym"
   },
   "outputs": [],
   "source": [
    "import requests\n",
    "import pandas as pd\n",
    "import os\n",
    "import pprint\n",
    "import re"
   ]
  },
  {
   "cell_type": "markdown",
   "metadata": {
    "id": "IOrieHBkAVqo"
   },
   "source": [
    "## Define and perform a query\n",
    "\n",
    "After importing modules, you will typically define your query by pasting your API Query URL.\n",
    "\n",
    "- In more complicated queries, you would also run functions which can refine your search.\n",
    "\n",
    "- Your results will need to be read in JSON format so make sure \"&fo=json\" is at the end of your API Query URL.\n",
    "\n",
    "---\n",
    "\n",
    "1. Paste your Search Query URL into the `locgov_url_search = '{URL}'`\n",
    "2. Make sure the search query URL has `&fo=json` at the end\n",
    "3. When ready, Run the code."
   ]
  },
  {
   "cell_type": "code",
   "execution_count": null,
   "metadata": {
    "executionInfo": {
     "elapsed": 335,
     "status": "ok",
     "timestamp": 1712117336109,
     "user": {
      "displayName": "Mike Saelee",
      "userId": "09356275809855701196"
     },
     "user_tz": 240
    },
    "id": "qHK2S-tZACIx"
   },
   "outputs": [],
   "source": [
    "# Define your query URL\n",
    "locgov_url_search = 'https://www.loc.gov/collections/chronicling-america/?dl=page&end_date=1924-12-31&ops=PHRASE&qs=clara+bow&searchType=advanced&start_date=1924-10-01&location_state=california&fo=json'\n",
    "\n",
    "# Run the query using the API\n",
    "api_query = requests.get(locgov_url_search)\n",
    "\n",
    "# Tell Python to read the results as json\n",
    "search_result = api_query.json()\n"
   ]
  },
  {
   "cell_type": "markdown",
   "metadata": {
    "id": "W5Ls49xwGsg3"
   },
   "source": [
    "## Print out Metadata from the first result\n",
    "\n",
    "After performing the query, typically you want to perform some sort of task.\n",
    "\n",
    "For the task here, you will print out the first results of the search query in JSON format. Notice the metadata elements on the left of each row.\n",
    "\n",
    "---\n",
    "1. Simply press run. If you would rather see the second result, change the 0 to 1 before you press run."
   ]
  },
  {
   "cell_type": "code",
   "execution_count": null,
   "metadata": {
    "colab": {
     "base_uri": "https://localhost:8080/"
    },
    "executionInfo": {
     "elapsed": 142,
     "status": "ok",
     "timestamp": 1712117409997,
     "user": {
      "displayName": "Mike Saelee",
      "userId": "09356275809855701196"
     },
     "user_tz": 240
    },
    "id": "CUWYD1xyGsTX",
    "outputId": "e1469c7e-1130-43bd-8643-b5570c463bd8"
   },
   "outputs": [],
   "source": [
    "# Look at the first record in the results section\n",
    "first_result = search_result['results'][0]\n",
    "pprint.pprint(first_result)"
   ]
  },
  {
   "cell_type": "markdown",
   "metadata": {
    "id": "plIrP4AQAeFM"
   },
   "source": [
    "In the previous step, you created a JSON output of the metadata.\n",
    "\n",
    "If you want to print out specific metadata from the JSON output, here is an example with some of the most common metadata fields for newspapers:\n",
    "\n",
    "---\n",
    "1. Press run to print. You can also go through the JSON to test other metadata elements.\n"
   ]
  },
  {
   "cell_type": "code",
   "execution_count": null,
   "metadata": {
    "colab": {
     "base_uri": "https://localhost:8080/"
    },
    "executionInfo": {
     "elapsed": 125,
     "status": "ok",
     "timestamp": 1712117112304,
     "user": {
      "displayName": "Mike Saelee",
      "userId": "09356275809855701196"
     },
     "user_tz": 240
    },
    "id": "LHvD7GEDAfDM",
    "outputId": "5e3ea88d-7bf3-4144-a351-61ac6b2a3670"
   },
   "outputs": [],
   "source": [
    "print('Page/Title Description:')\n",
    "pprint.pprint(first_result[\"title\"])\n",
    "\n",
    "print('\\nDate:')\n",
    "pprint.pprint(first_result[\"date\"])\n",
    "\n",
    "print('\\nEdition Number:')\n",
    "pprint.pprint(first_result[\"number_edition\"])\n",
    "\n",
    "print('\\nNewspaper Title:')\n",
    "pprint.pprint(first_result[\"partof_title\"])\n",
    "\n",
    "print('\\nLCCN:')\n",
    "pprint.pprint(first_result[\"number_lccn\"])\n",
    "\n",
    "print('\\nFrequency:')\n",
    "pprint.pprint(first_result[\"publication_frequency\"])\n",
    "\n",
    "print('\\nState:')\n",
    "pprint.pprint(first_result[\"location_state\"])\n",
    "\n",
    "print('\\nCounty')\n",
    "pprint.pprint(first_result[\"location_county\"])\n",
    "\n",
    "print('\\nCity:')\n",
    "pprint.pprint(first_result[\"location_city\"])\n",
    "\n",
    "print('\\nLanguage:')\n",
    "pprint.pprint(first_result[\"language\"])\n",
    "\n",
    "print('\\nLink to Newspaper Page:')\n",
    "pprint.pprint(first_result[\"id\"])\n",
    "\n",
    "print('\\nLink to Newspaper Issue:')\n",
    "pprint.pprint(first_result[\"segmentof\"])\n",
    "\n",
    "print('\\nCollection:')\n",
    "pprint.pprint(first_result[\"partof_collection\"])\n",
    "\n",
    "print('\\nBatch Name:')\n",
    "pprint.pprint(first_result[\"batch\"])\n",
    "\n",
    "print('\\nContributor:')\n",
    "pprint.pprint(first_result[\"group\"])"
   ]
  },
  {
   "cell_type": "markdown",
   "metadata": {
    "id": "G9x0W53JAihT"
   },
   "source": [
    "## Pagination via API Query\n",
    "Other types of useful metadata includes pagination. Pagination can be used to display the # of pages of a Search Query or the current page of a newspaper image.\n",
    "\n",
    "- The pagination results here should be the same as those shown after you performed an Advanced Search on Chronicling America.\n",
    "\n",
    "- This is useful for validating the search query and checking whether there are too many results for your search. If there are too many results for your search, you may encounter issues processing your data.\n",
    "\n",
    "- Note: We recommend keeping search results under 100,000 hits. Please use facets to limit the size of your results and search query or you may be automatically blocked. See Limitations and Rate Limits for more information.\n",
    "\n",
    "\n",
    "---\n",
    "\n",
    "1. Simply run the codes below.\n",
    "- The first will give you the pagination metadata of the search result."
   ]
  },
  {
   "cell_type": "code",
   "execution_count": null,
   "metadata": {
    "colab": {
     "base_uri": "https://localhost:8080/"
    },
    "executionInfo": {
     "elapsed": 135,
     "status": "ok",
     "timestamp": 1712117115544,
     "user": {
      "displayName": "Mike Saelee",
      "userId": "09356275809855701196"
     },
     "user_tz": 240
    },
    "id": "5SOWvI-5AiL1",
    "outputId": "3ba46c64-e471-47df-9d15-840844b1aba5"
   },
   "outputs": [],
   "source": [
    "search_result['pagination']"
   ]
  },
  {
   "cell_type": "markdown",
   "metadata": {
    "id": "u7fmUK1tLnHH"
   },
   "source": [
    "- The second will print out the pagination metadata with more context."
   ]
  },
  {
   "cell_type": "code",
   "execution_count": null,
   "metadata": {
    "colab": {
     "base_uri": "https://localhost:8080/"
    },
    "executionInfo": {
     "elapsed": 164,
     "status": "ok",
     "timestamp": 1712117116958,
     "user": {
      "displayName": "Mike Saelee",
      "userId": "09356275809855701196"
     },
     "user_tz": 240
    },
    "id": "N4UCouYJAo11",
    "outputId": "acead69a-6773-4abb-c8fe-d618d3cf81c0"
   },
   "outputs": [],
   "source": [
    "print('Current page:')\n",
    "print(search_result['pagination']['current'])\n",
    "\n",
    "print('\\nPath to request the next page:')\n",
    "print(search_result['pagination']['next'])\n",
    "\n",
    "print('\\nTotal number of results:')\n",
    "print(search_result['pagination']['of'])\n",
    "\n",
    "print('\\nTotal number of results per page:')\n",
    "print(search_result['pagination']['perpage'] )\n",
    "\n",
    "print('\\nTotal number of pages:')\n",
    "print(search_result['pagination']['total'])"
   ]
  },
  {
   "cell_type": "code",
   "execution_count": null,
   "metadata": {},
   "outputs": [],
   "source": []
  }
 ],
 "metadata": {
  "colab": {
   "authorship_tag": "ABX9TyOIywx0DalrtN4OOwKnDGun",
   "provenance": []
  },
  "kernelspec": {
   "display_name": "Python 3 (ipykernel)",
   "language": "python",
   "name": "python3"
  },
  "language_info": {
   "codemirror_mode": {
    "name": "ipython",
    "version": 3
   },
   "file_extension": ".py",
   "mimetype": "text/x-python",
   "name": "python",
   "nbconvert_exporter": "python",
   "pygments_lexer": "ipython3",
   "version": "3.10.11"
  }
 },
 "nbformat": 4,
 "nbformat_minor": 4
}
